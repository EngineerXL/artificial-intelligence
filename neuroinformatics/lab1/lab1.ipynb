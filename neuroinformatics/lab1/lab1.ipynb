{
 "cells": [
  {
   "cell_type": "markdown",
   "id": "0c498470-ef36-4cdb-a3eb-0b915150678b",
   "metadata": {},
   "source": [
    "# Лабораторная работа №1\n",
    "## Персептроны. Процедура обучения Розенблатта\n",
    "\n",
    "Целью работы является исследование свойств персептрона Розенблатта и его применение для решения задачи распознавания образов."
   ]
  },
  {
   "cell_type": "code",
   "execution_count": 1,
   "id": "2f3c8731-6d2b-4be7-8751-ada093d0f28b",
   "metadata": {},
   "outputs": [],
   "source": [
    "import os\n",
    "os.environ[\"TF_CPP_MIN_LOG_LEVEL\"] = \"3\"\n",
    "\n",
    "import numpy as np\n",
    "import tensorflow as tf\n",
    "import matplotlib.pyplot as plt"
   ]
  },
  {
   "cell_type": "markdown",
   "id": "3e806560-3293-423b-acba-a8091616e4fb",
   "metadata": {},
   "source": [
    "Вспомогательные функции"
   ]
  },
  {
   "cell_type": "code",
   "execution_count": 2,
   "id": "367884fb-acb4-4eb6-9d85-d7a76df2425c",
   "metadata": {},
   "outputs": [],
   "source": [
    "def make_xy(x, y):\n",
    "    n = len(x)\n",
    "    res = []\n",
    "    for i in range(n):\n",
    "        elem = (x[i], y[i])\n",
    "        res.append(elem)\n",
    "    return res"
   ]
  },
  {
   "cell_type": "code",
   "execution_count": 3,
   "id": "630d6eb1-c6d3-4150-9710-645725c935c2",
   "metadata": {},
   "outputs": [],
   "source": [
    "colour = [\"-b\", \"-c\"]\n",
    "\n",
    "def draw_data(xy, labels, ncls, w = None, b = None, hist = None):\n",
    "    n = len(xy)\n",
    "    min_x = xy[0][0]\n",
    "    max_x = xy[0][0]\n",
    "    mpx, mpy = dict(), dict()\n",
    "    for elem in labels:\n",
    "        mpx[elem] = []\n",
    "        mpy[elem] = []\n",
    "    for i in range(n):\n",
    "        [x0, y0] = xy[i]\n",
    "        min_x = min(x0, min_x)\n",
    "        max_x = max(x0, max_x)\n",
    "        mpx[labels[i]].append(x0)\n",
    "        mpy[labels[i]].append(y0)\n",
    "    for i in mpx.keys():\n",
    "        plt.scatter(mpx[i], mpy[i])\n",
    "    if (w is not None):\n",
    "        for i in range(w.shape[1]):\n",
    "            line_x = np.linspace(min_x, max_x, 100)\n",
    "            line_y = -(w[0][i] * line_x + b[i]) / w[1][i]\n",
    "            plt.plot(line_x, line_y, colour[i])\n",
    "    plt.show()\n",
    "    if (hist is not None):\n",
    "        plt.plot(hist)\n",
    "        plt.ylabel(\"mae\")\n",
    "        plt.xlabel(\"Эпохи\")\n",
    "        plt.show()"
   ]
  },
  {
   "cell_type": "markdown",
   "id": "a0281e12-5e53-448b-93a7-f12a9dfd7d6b",
   "metadata": {},
   "source": [
    "### Вариант 4"
   ]
  },
  {
   "cell_type": "markdown",
   "id": "55421cc2-1360-4363-a3eb-e6eeb6fdf1b3",
   "metadata": {},
   "source": [
    "### Задание 1"
   ]
  },
  {
   "cell_type": "code",
   "execution_count": 4,
   "id": "3344dd32-e925-4d40-9c28-1ed3af2c4d75",
   "metadata": {},
   "outputs": [],
   "source": [
    "x = [-4, -3.4, 0.7, 4.3, 2.3, 3.6]\n",
    "y = [-3.6, 1.2, -4.5, 2.2, -4.4, 4.3]\n",
    "labels = [0, 1, 0, 0, 0, 1]"
   ]
  },
  {
   "cell_type": "markdown",
   "id": "10e7e60c-84b6-445b-9f1b-607fa2b5fed1",
   "metadata": {},
   "source": [
    "Визуализация данных"
   ]
  },
  {
   "cell_type": "code",
   "execution_count": 5,
   "id": "1e418b94-21c8-4233-83b7-9f47507d7ca3",
   "metadata": {},
   "outputs": [
    {
     "data": {
      "image/png": "[encoded data removed]",
      "text/plain": [
       "<Figure size 432x288 with 1 Axes>"
      ]
     },
     "metadata": {
      "needs_background": "light"
     },
     "output_type": "display_data"
    }
   ],
   "source": [
    "xy = make_xy(x, y)\n",
    "draw_data(xy, labels, 2)"
   ]
  },
  {
   "cell_type": "markdown",
   "id": "69f8ca68-cd76-4b69-aa76-4b281928070d",
   "metadata": {},
   "source": [
    "Обучение модели"
   ]
  },
  {
   "cell_type": "code",
   "execution_count": 6,
   "id": "ed17be63-df56-4f99-a9e2-a27440532965",
   "metadata": {},
   "outputs": [],
   "source": [
    "model = tf.keras.models.Sequential([\n",
    "    tf.keras.layers.Dense(1, input_dim = 2, activation = \"sigmoid\")\n",
    "])\n",
    "\n",
    "model.compile(\n",
    "    optimizer = tf.keras.optimizers.Adam(learning_rate = 0.1),\n",
    "    loss = \"mse\",\n",
    "    metrics = [\"mae\"]\n",
    ")\n",
    "\n",
    "h = model.fit(x = xy, y = labels, batch_size = 1, epochs = 20, verbose = 0)\n",
    "\n",
    "w = model.get_weights()[0]\n",
    "b = model.get_weights()[1]"
   ]
  },
  {
   "cell_type": "code",
   "execution_count": 7,
   "id": "fe28de9d-c24b-4502-be07-cfd63d7f2049",
   "metadata": {},
   "outputs": [
    {
     "data": {
      "image/png": "[encoded data removed]",
      "text/plain": [
       "<Figure size 432x288 with 1 Axes>"
      ]
     },
     "metadata": {
      "needs_background": "light"
     },
     "output_type": "display_data"
    },
    {
     "data": {
      "image/png": "[encoded data removed]",
      "text/plain": [
       "<Figure size 432x288 with 1 Axes>"
      ]
     },
     "metadata": {
      "needs_background": "light"
     },
     "output_type": "display_data"
    }
   ],
   "source": [
    "draw_data(xy, labels, 2, w, b, h.history[\"mae\"])"
   ]
  },
  {
   "cell_type": "markdown",
   "id": "59e36a6e-ddc7-4bbc-a534-b53a1ed598ae",
   "metadata": {},
   "source": [
    "### Задание 2"
   ]
  },
  {
   "cell_type": "code",
   "execution_count": 8,
   "id": "cfbbf4e3-dcb1-4977-8c5e-7a0bfcd26781",
   "metadata": {},
   "outputs": [],
   "source": [
    "x = [4.3, -2.5, 0.9, 1.1, 0.3, -0.5, 4.6, 1.9]\n",
    "y = [-3.1, 3.9, 0, 3.1, -3, -0.8, 1.2, 2.2]\n",
    "labels = [(0, 0), (1, 1), (0, 1), (0, 1), (1, 0), (1, 1), (0, 0), (0, 1)]"
   ]
  },
  {
   "cell_type": "markdown",
   "id": "bd3ce310-b1c0-451f-ae88-974a37d7a430",
   "metadata": {},
   "source": [
    "Визуализация данных"
   ]
  },
  {
   "cell_type": "code",
   "execution_count": 9,
   "id": "ee4430a7-6590-41f0-a5a0-bb9ab7685768",
   "metadata": {},
   "outputs": [
    {
     "data": {
      "image/png": "[encoded data removed]",
      "text/plain": [
       "<Figure size 432x288 with 1 Axes>"
      ]
     },
     "metadata": {
      "needs_background": "light"
     },
     "output_type": "display_data"
    }
   ],
   "source": [
    "xy = make_xy(x, y)\n",
    "draw_data(xy, labels, 4)"
   ]
  },
  {
   "cell_type": "markdown",
   "id": "a0d7ba68-f268-40c1-82b0-70c11ed45cac",
   "metadata": {},
   "source": [
    "Обучение модели"
   ]
  },
  {
   "cell_type": "code",
   "execution_count": 10,
   "id": "15cd4499-0629-4e49-8386-f30b5d5799d9",
   "metadata": {},
   "outputs": [],
   "source": [
    "model = tf.keras.models.Sequential([\n",
    "    tf.keras.layers.Dense(2, input_dim = 2, activation = \"sigmoid\")\n",
    "])\n",
    "\n",
    "model.compile(\n",
    "    optimizer = tf.keras.optimizers.Adam(learning_rate = 0.1),\n",
    "    loss = \"mse\",\n",
    "    metrics = [\"mae\"]\n",
    ")\n",
    "\n",
    "h = model.fit(x = xy, y = labels, batch_size = 1, epochs = 20, verbose = 0)\n",
    "\n",
    "w = model.get_weights()[0]\n",
    "b = model.get_weights()[1]"
   ]
  },
  {
   "cell_type": "code",
   "execution_count": 11,
   "id": "c547b40c-147b-4b11-9ea4-e1623c9119a9",
   "metadata": {},
   "outputs": [
    {
     "data": {
      "image/png": "[encoded data removed]",
      "text/plain": [
       "<Figure size 432x288 with 1 Axes>"
      ]
     },
     "metadata": {
      "needs_background": "light"
     },
     "output_type": "display_data"
    },
    {
     "data": {
      "image/png": "[encoded data removed]",
      "text/plain": [
       "<Figure size 432x288 with 1 Axes>"
      ]
     },
     "metadata": {
      "needs_background": "light"
     },
     "output_type": "display_data"
    }
   ],
   "source": [
    "draw_data(xy, labels, 4, w, b, h.history[\"mae\"])"
   ]
  },
  {
   "cell_type": "markdown",
   "id": "7e3768ae-26ea-45ec-ad1c-5eae05b6f24f",
   "metadata": {},
   "source": [
    "### Вывод\n",
    "\n",
    "В ходе выполнения лабораторной работы я вспомнил основы использования библиотеки Tensorflow и Keras, реализовал однослойный персептрон. Данные получились линейно разделимыми."
   ]
  },
  {
   "cell_type": "code",
   "execution_count": null,
   "id": "c2fca7bf-ca77-4135-83cd-4b3b0204579d",
   "metadata": {},
   "outputs": [],
   "source": []
  }
 ],
 "metadata": {
  "kernelspec": {
   "display_name": "Python 3 (ipykernel)",
   "language": "python",
   "name": "python3"
  },
  "language_info": {
   "codemirror_mode": {
    "name": "ipython",
    "version": 3
   },
   "file_extension": ".py",
   "mimetype": "text/x-python",
   "name": "python",
   "nbconvert_exporter": "python",
   "pygments_lexer": "ipython3",
   "version": "3.9.7"
  }
 },
 "nbformat": 4,
 "nbformat_minor": 5
}
