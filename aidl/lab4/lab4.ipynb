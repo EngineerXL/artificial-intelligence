{
 "cells": [
  {
   "cell_type": "markdown",
   "metadata": {},
   "source": [
    "# AI & DL"
   ]
  },
  {
   "cell_type": "markdown",
   "metadata": {},
   "source": [
    "## Лабораторная работа №4"
   ]
  },
  {
   "cell_type": "markdown",
   "metadata": {},
   "source": [
    "### Выполнил: Инютин М. А.\n",
    "### Группа: М8О-407Б-19"
   ]
  },
  {
   "cell_type": "markdown",
   "metadata": {},
   "source": [
    "Подключаю необходимые библиотеки"
   ]
  },
  {
   "cell_type": "code",
   "execution_count": 1,
   "metadata": {
    "collapsed": false,
    "jupyter": {
     "outputs_hidden": false
    }
   },
   "outputs": [
    {
     "data": {
      "text/plain": [
       "<contextlib.ExitStack at 0x7fabbbf86370>"
      ]
     },
     "execution_count": 1,
     "metadata": {},
     "output_type": "execute_result"
    }
   ],
   "source": [
    "# License: BSD\n",
    "# Author: Sasank Chilamkurthy\n",
    "\n",
    "from __future__ import print_function, division\n",
    "\n",
    "import torch\n",
    "import torch.nn as nn\n",
    "import torch.optim as optim\n",
    "from torch.optim import lr_scheduler\n",
    "import torch.backends.cudnn as cudnn\n",
    "import numpy as np\n",
    "import torchvision\n",
    "from torchvision import datasets, models, transforms\n",
    "import matplotlib.pyplot as plt\n",
    "import time\n",
    "import os\n",
    "import copy\n",
    "\n",
    "cudnn.benchmark = True\n",
    "plt.ion()"
   ]
  },
  {
   "cell_type": "markdown",
   "metadata": {},
   "source": [
    "### Загрузка [датасета](https://www.kaggle.com/datasets/dhruvildave/english-handwritten-characters-dataset)\n",
    "\n",
    "В нём 62 класса - 26 латинских букв в строчном и прописном варианте, то есть 52, и 10 цифр. В каждом классе по 55 изображений, 44 для тренировки, 11 для валидации (соотношение 80/20). Разделение на выборке делает скрипт `process_eng.sh` в папке `data`\n",
    "\n",
    "Для тестовой выборки производится нормализация, а для обучающей ещё и аугментация"
   ]
  },
  {
   "cell_type": "code",
   "execution_count": 2,
   "metadata": {
    "collapsed": false,
    "jupyter": {
     "outputs_hidden": false
    }
   },
   "outputs": [],
   "source": [
    "data_transforms = {\n",
    "    'train': transforms.Compose([\n",
    "        transforms.RandomResizedCrop(224),\n",
    "        transforms.RandomHorizontalFlip(),\n",
    "        transforms.ToTensor(),\n",
    "        transforms.Normalize([0.485, 0.456, 0.406], [0.229, 0.224, 0.225])\n",
    "    ]),\n",
    "    'val': transforms.Compose([\n",
    "        transforms.Resize(256),\n",
    "        transforms.CenterCrop(224),\n",
    "        transforms.ToTensor(),\n",
    "        transforms.Normalize([0.485, 0.456, 0.406], [0.229, 0.224, 0.225])\n",
    "    ]),\n",
    "}\n",
    "\n",
    "here = !pwd\n",
    "data_dir = here[0] + '/../data/eng/'\n",
    "image_datasets = {x: datasets.ImageFolder(os.path.join(data_dir, x),\n",
    "                                          data_transforms[x])\n",
    "                  for x in ['train', 'val']}\n",
    "dataloaders = {x: torch.utils.data.DataLoader(image_datasets[x], batch_size=4,\n",
    "                                             shuffle=True, num_workers=4)\n",
    "              for x in ['train', 'val']}\n",
    "dataset_sizes = {x: len(image_datasets[x]) for x in ['train', 'val']}\n",
    "class_names = image_datasets['train'].classes"
   ]
  },
  {
   "cell_type": "markdown",
   "metadata": {},
   "source": [
    "Доступна ли видеокарта?"
   ]
  },
  {
   "cell_type": "code",
   "execution_count": 3,
   "metadata": {
    "tags": []
   },
   "outputs": [],
   "source": [
    "device = torch.device(\"cuda:0\" if torch.cuda.is_available() else \"cpu\")"
   ]
  },
  {
   "cell_type": "markdown",
   "metadata": {},
   "source": [
    "### Функция для визуализации изображений, пример входных данных"
   ]
  },
  {
   "cell_type": "code",
   "execution_count": 4,
   "metadata": {
    "collapsed": false,
    "jupyter": {
     "outputs_hidden": false
    }
   },
   "outputs": [
    {
     "data": {
      "image/png": "[encoded data removed]",
      "text/plain": [
       "<Figure size 640x480 with 1 Axes>"
      ]
     },
     "metadata": {},
     "output_type": "display_data"
    }
   ],
   "source": [
    "def imshow(inp, title=None):\n",
    "    inp = inp.numpy().transpose((1, 2, 0))\n",
    "    mean = np.array([0.485, 0.456, 0.406])\n",
    "    std = np.array([0.229, 0.224, 0.225])\n",
    "    inp = std * inp + mean\n",
    "    inp = np.clip(inp, 0, 1)\n",
    "    plt.imshow(inp)\n",
    "    if title is not None:\n",
    "        plt.title(title)\n",
    "    plt.pause(0.001)\n",
    "\n",
    "# Берём первый батч данных\n",
    "inputs, classes = next(iter(dataloaders['train']))\n",
    "\n",
    "# Создание сетки\n",
    "out = torchvision.utils.make_grid(inputs)\n",
    "\n",
    "imshow(out, title=[class_names[x] for x in classes])"
   ]
  },
  {
   "cell_type": "markdown",
   "metadata": {},
   "source": [
    "### Функция для тренировки модели\n",
    "\n",
    "На каждой эпохе прогоняем на всех данных, сохраняем модель, чтобы потом выбрать наилучшую версию"
   ]
  },
  {
   "cell_type": "code",
   "execution_count": 5,
   "metadata": {
    "collapsed": false,
    "jupyter": {
     "outputs_hidden": false
    }
   },
   "outputs": [],
   "source": [
    "def train_model(model, criterion, optimizer, scheduler, num_epochs=25):\n",
    "    since = time.time()\n",
    "\n",
    "    best_model_wts = copy.deepcopy(model.state_dict())\n",
    "    best_acc = 0.0\n",
    "\n",
    "    # На каждой эпохе вычисляем метрики для обучающей и тестовой выборки\n",
    "    for epoch in range(num_epochs):\n",
    "        print(f'Epoch {epoch}/{num_epochs - 1}')\n",
    "        print('-' * 10)\n",
    "\n",
    "        # Изменяем режим модели в зависимости от того, тренируем или валидируем\n",
    "        for phase in ['train', 'val']:\n",
    "            if phase == 'train':\n",
    "                model.train()\n",
    "            else:\n",
    "                model.eval()\n",
    "\n",
    "            running_loss = 0.0\n",
    "            running_corrects = 0\n",
    "\n",
    "            # Проходим по всем батчам данных\n",
    "            for inputs, labels in dataloaders[phase]:\n",
    "                inputs = inputs.to(device)\n",
    "                labels = labels.to(device)\n",
    "\n",
    "                optimizer.zero_grad()\n",
    "\n",
    "                with torch.set_grad_enabled(phase == 'train'):\n",
    "                    outputs = model(inputs)\n",
    "                    _, preds = torch.max(outputs, 1)\n",
    "                    loss = criterion(outputs, labels)\n",
    "                    \n",
    "                    # Если обучаем, то распространяем ошибку на веса\n",
    "                    if phase == 'train':\n",
    "                        loss.backward()\n",
    "                        optimizer.step()\n",
    "\n",
    "                # Считаем loss\n",
    "                running_loss += loss.item() * inputs.size(0)\n",
    "                running_corrects += torch.sum(preds == labels.data)\n",
    "            if phase == 'train':\n",
    "                scheduler.step()\n",
    "\n",
    "            epoch_loss = running_loss / dataset_sizes[phase]\n",
    "            epoch_acc = running_corrects.double() / dataset_sizes[phase]\n",
    "\n",
    "            print(f'{phase} Loss: {epoch_loss:.4f} Acc: {epoch_acc:.4f}')\n",
    "\n",
    "            # Копируем модель для выбора лучшей\n",
    "            if phase == 'val' and epoch_acc > best_acc:\n",
    "                best_acc = epoch_acc\n",
    "                best_model_wts = copy.deepcopy(model.state_dict())\n",
    "\n",
    "        print()\n",
    "\n",
    "    # Печатаем суммарное время и счёт лучшей модель\n",
    "    time_elapsed = time.time() - since\n",
    "    print(f'Training complete in {time_elapsed // 60:.0f}m {time_elapsed % 60:.0f}s')\n",
    "    print(f'Best val Acc: {best_acc:4f}')\n",
    "\n",
    "    # Загружаем лучшую модель\n",
    "    model.load_state_dict(best_model_wts)\n",
    "    return model"
   ]
  },
  {
   "cell_type": "markdown",
   "metadata": {},
   "source": [
    "### Визуализация результатов обучения\n",
    "\n",
    "Отображаем несколько изображений и предсказанное значение"
   ]
  },
  {
   "cell_type": "code",
   "execution_count": 6,
   "metadata": {
    "collapsed": false,
    "jupyter": {
     "outputs_hidden": false
    }
   },
   "outputs": [],
   "source": [
    "def visualize_model(model, num_images=6):\n",
    "    was_training = model.training\n",
    "    model.eval()\n",
    "    images_so_far = 0\n",
    "    fig = plt.figure()\n",
    "\n",
    "    # Выключаем вычисление градиента\n",
    "    with torch.no_grad():\n",
    "        for i, (inputs, labels) in enumerate(dataloaders['val']):\n",
    "            inputs = inputs.to(device)\n",
    "            labels = labels.to(device)\n",
    "\n",
    "            outputs = model(inputs)\n",
    "            _, preds = torch.max(outputs, 1)\n",
    "\n",
    "            for j in range(inputs.size()[0]):\n",
    "                images_so_far += 1\n",
    "                ax = plt.subplot(num_images//2, 2, images_so_far)\n",
    "                ax.axis('off')\n",
    "                ax.set_title(f'predicted: {class_names[preds[j]]}')\n",
    "                imshow(inputs.cpu().data[j])\n",
    "\n",
    "                if images_so_far == num_images:\n",
    "                    model.train(mode=was_training)\n",
    "                    return\n",
    "        model.train(mode=was_training)"
   ]
  },
  {
   "cell_type": "markdown",
   "metadata": {},
   "source": [
    "### Построение модели\n",
    "\n",
    "Загружаем `resnset18` и очищаем последний слой, так как будем учить на своих классах"
   ]
  },
  {
   "cell_type": "code",
   "execution_count": 7,
   "metadata": {
    "collapsed": false,
    "jupyter": {
     "outputs_hidden": false
    }
   },
   "outputs": [],
   "source": [
    "model_ft = models.resnet18(weights=\"DEFAULT\")\n",
    "num_ftrs = model_ft.fc.in_features\n",
    "model_ft.fc = nn.Linear(num_ftrs, len(class_names))\n",
    "\n",
    "model_ft = model_ft.to(device)\n",
    "\n",
    "criterion = nn.CrossEntropyLoss()\n",
    "\n",
    "# Учим параметры на всех слоях\n",
    "optimizer_ft = optim.SGD(model_ft.parameters(), lr=0.001, momentum=0.9)\n",
    "\n",
    "# Уменьшаем LR каждые 7 эпох для лучшего результата\n",
    "exp_lr_scheduler = lr_scheduler.StepLR(optimizer_ft, step_size=7, gamma=0.1)"
   ]
  },
  {
   "cell_type": "markdown",
   "metadata": {},
   "source": [
    "### Обучение модели и визуализация результата"
   ]
  },
  {
   "cell_type": "code",
   "execution_count": 8,
   "metadata": {
    "collapsed": false,
    "jupyter": {
     "outputs_hidden": false
    }
   },
   "outputs": [
    {
     "name": "stdout",
     "output_type": "stream",
     "text": [
      "Epoch 0/24\n",
      "----------\n",
      "train Loss: 3.3366 Acc: 0.1749\n",
      "val Loss: 1.5541 Acc: 0.5572\n",
      "\n",
      "Epoch 1/24\n",
      "----------\n",
      "train Loss: 2.1359 Acc: 0.4216\n",
      "val Loss: 1.1565 Acc: 0.6569\n",
      "\n",
      "Epoch 2/24\n",
      "----------\n",
      "train Loss: 1.7243 Acc: 0.5282\n",
      "val Loss: 0.8789 Acc: 0.7375\n",
      "\n",
      "Epoch 3/24\n",
      "----------\n",
      "train Loss: 1.5913 Acc: 0.5532\n",
      "val Loss: 0.7566 Acc: 0.7859\n",
      "\n",
      "Epoch 4/24\n",
      "----------\n",
      "train Loss: 1.5172 Acc: 0.5902\n",
      "val Loss: 0.8350 Acc: 0.7551\n",
      "\n",
      "Epoch 5/24\n",
      "----------\n",
      "train Loss: 1.5447 Acc: 0.5828\n",
      "val Loss: 0.7982 Acc: 0.7742\n",
      "\n",
      "Epoch 6/24\n",
      "----------\n",
      "train Loss: 1.4137 Acc: 0.6129\n",
      "val Loss: 0.8484 Acc: 0.7786\n",
      "\n",
      "Epoch 7/24\n",
      "----------\n",
      "train Loss: 1.1615 Acc: 0.6833\n",
      "val Loss: 0.6048 Acc: 0.8182\n",
      "\n",
      "Epoch 8/24\n",
      "----------\n",
      "train Loss: 1.1361 Acc: 0.6895\n",
      "val Loss: 0.5681 Acc: 0.8299\n",
      "\n",
      "Epoch 9/24\n",
      "----------\n",
      "train Loss: 1.0798 Acc: 0.7012\n",
      "val Loss: 0.5783 Acc: 0.8328\n",
      "\n",
      "Epoch 10/24\n",
      "----------\n",
      "train Loss: 1.0416 Acc: 0.7126\n",
      "val Loss: 0.5541 Acc: 0.8284\n",
      "\n",
      "Epoch 11/24\n",
      "----------\n",
      "train Loss: 1.0748 Acc: 0.7064\n",
      "val Loss: 0.5381 Acc: 0.8182\n",
      "\n",
      "Epoch 12/24\n",
      "----------\n",
      "train Loss: 1.0508 Acc: 0.7075\n",
      "val Loss: 0.5155 Acc: 0.8211\n",
      "\n",
      "Epoch 13/24\n",
      "----------\n",
      "train Loss: 1.0090 Acc: 0.7254\n",
      "val Loss: 0.4993 Acc: 0.8284\n",
      "\n",
      "Epoch 14/24\n",
      "----------\n",
      "train Loss: 1.0144 Acc: 0.7236\n",
      "val Loss: 0.5126 Acc: 0.8284\n",
      "\n",
      "Epoch 15/24\n",
      "----------\n",
      "train Loss: 0.9954 Acc: 0.7254\n",
      "val Loss: 0.5033 Acc: 0.8226\n",
      "\n",
      "Epoch 16/24\n",
      "----------\n",
      "train Loss: 1.0155 Acc: 0.7269\n",
      "val Loss: 0.5184 Acc: 0.8270\n",
      "\n",
      "Epoch 17/24\n",
      "----------\n",
      "train Loss: 0.9605 Acc: 0.7364\n",
      "val Loss: 0.4948 Acc: 0.8284\n",
      "\n",
      "Epoch 18/24\n",
      "----------\n",
      "train Loss: 0.9628 Acc: 0.7368\n",
      "val Loss: 0.4959 Acc: 0.8372\n",
      "\n",
      "Epoch 19/24\n",
      "----------\n",
      "train Loss: 0.9897 Acc: 0.7280\n",
      "val Loss: 0.4947 Acc: 0.8328\n",
      "\n",
      "Epoch 20/24\n",
      "----------\n",
      "train Loss: 0.9702 Acc: 0.7258\n",
      "val Loss: 0.4907 Acc: 0.8343\n",
      "\n",
      "Epoch 21/24\n",
      "----------\n",
      "train Loss: 0.9660 Acc: 0.7291\n",
      "val Loss: 0.4965 Acc: 0.8284\n",
      "\n",
      "Epoch 22/24\n",
      "----------\n",
      "train Loss: 0.9608 Acc: 0.7295\n",
      "val Loss: 0.4944 Acc: 0.8343\n",
      "\n",
      "Epoch 23/24\n",
      "----------\n",
      "train Loss: 1.0204 Acc: 0.7221\n",
      "val Loss: 0.4915 Acc: 0.8343\n",
      "\n",
      "Epoch 24/24\n",
      "----------\n",
      "train Loss: 0.9508 Acc: 0.7357\n",
      "val Loss: 0.4914 Acc: 0.8358\n",
      "\n",
      "Training complete in 15m 6s\n",
      "Best val Acc: 0.837243\n"
     ]
    }
   ],
   "source": [
    "model_ft = train_model(model_ft, criterion, optimizer_ft, exp_lr_scheduler,\n",
    "                       num_epochs=25)"
   ]
  },
  {
   "cell_type": "code",
   "execution_count": 9,
   "metadata": {
    "collapsed": false,
    "jupyter": {
     "outputs_hidden": false
    }
   },
   "outputs": [
    {
     "data": {
      "image/png": "[encoded data removed]",
      "text/plain": [
       "<Figure size 640x480 with 1 Axes>"
      ]
     },
     "metadata": {},
     "output_type": "display_data"
    },
    {
     "data": {
      "image/png": "[encoded data removed]",
      "text/plain": [
       "<Figure size 640x480 with 1 Axes>"
      ]
     },
     "metadata": {},
     "output_type": "display_data"
    },
    {
     "data": {
      "image/png": "[encoded data removed]",
      "text/plain": [
       "<Figure size 640x480 with 1 Axes>"
      ]
     },
     "metadata": {},
     "output_type": "display_data"
    },
    {
     "data": {
      "image/png": "[encoded data removed]",
      "text/plain": [
       "<Figure size 640x480 with 1 Axes>"
      ]
     },
     "metadata": {},
     "output_type": "display_data"
    },
    {
     "data": {
      "image/png": "[encoded data removed]",
      "text/plain": [
       "<Figure size 640x480 with 1 Axes>"
      ]
     },
     "metadata": {},
     "output_type": "display_data"
    },
    {
     "data": {
      "image/png": "[encoded data removed]",
      "text/plain": [
       "<Figure size 640x480 with 1 Axes>"
      ]
     },
     "metadata": {},
     "output_type": "display_data"
    }
   ],
   "source": [
    "visualize_model(model_ft)"
   ]
  },
  {
   "cell_type": "markdown",
   "metadata": {},
   "source": [
    "### Построение модели\n",
    "\n",
    "Будем обучать сеть только на последних слоях, замораживая свёрточные слои"
   ]
  },
  {
   "cell_type": "code",
   "execution_count": 10,
   "metadata": {
    "collapsed": false,
    "jupyter": {
     "outputs_hidden": false
    }
   },
   "outputs": [],
   "source": [
    "model_conv = torchvision.models.resnet18(weights=\"DEFAULT\")\n",
    "# Заморозка слоёв\n",
    "for param in model_conv.parameters():\n",
    "    param.requires_grad = False\n",
    "\n",
    "num_ftrs = model_conv.fc.in_features\n",
    "model_conv.fc = nn.Linear(num_ftrs, len(class_names))\n",
    "\n",
    "model_conv = model_conv.to(device)\n",
    "\n",
    "criterion = nn.CrossEntropyLoss()\n",
    "\n",
    "# Учим только параметры последних слоёв\n",
    "optimizer_conv = optim.SGD(model_conv.fc.parameters(), lr=0.001, momentum=0.9)\n",
    "\n",
    "# Уменьшаем LR каждые 7 эпох для лучшего результата\n",
    "exp_lr_scheduler = lr_scheduler.StepLR(optimizer_conv, step_size=7, gamma=0.1)"
   ]
  },
  {
   "cell_type": "markdown",
   "metadata": {},
   "source": [
    "### Обучение модели и визуализация результата"
   ]
  },
  {
   "cell_type": "code",
   "execution_count": 11,
   "metadata": {
    "collapsed": false,
    "jupyter": {
     "outputs_hidden": false
    }
   },
   "outputs": [
    {
     "name": "stdout",
     "output_type": "stream",
     "text": [
      "Epoch 0/24\n",
      "----------\n",
      "train Loss: 3.9375 Acc: 0.0627\n",
      "val Loss: 2.8505 Acc: 0.2727\n",
      "\n",
      "Epoch 1/24\n",
      "----------\n",
      "train Loss: 3.3330 Acc: 0.1771\n",
      "val Loss: 2.1406 Acc: 0.4677\n",
      "\n",
      "Epoch 2/24\n",
      "----------\n",
      "train Loss: 3.0283 Acc: 0.2368\n",
      "val Loss: 1.9926 Acc: 0.4721\n",
      "\n",
      "Epoch 3/24\n",
      "----------\n",
      "train Loss: 2.8161 Acc: 0.2925\n",
      "val Loss: 1.6177 Acc: 0.5660\n",
      "\n",
      "Epoch 4/24\n",
      "----------\n",
      "train Loss: 2.6555 Acc: 0.3310\n",
      "val Loss: 1.5707 Acc: 0.5733\n",
      "\n",
      "Epoch 5/24\n",
      "----------\n",
      "train Loss: 2.5647 Acc: 0.3435\n",
      "val Loss: 1.4498 Acc: 0.5953\n",
      "\n",
      "Epoch 6/24\n",
      "----------\n",
      "train Loss: 2.4759 Acc: 0.3721\n",
      "val Loss: 1.4397 Acc: 0.5997\n",
      "\n",
      "Epoch 7/24\n",
      "----------\n",
      "train Loss: 2.2860 Acc: 0.4227\n",
      "val Loss: 1.3247 Acc: 0.6584\n",
      "\n",
      "Epoch 8/24\n",
      "----------\n",
      "train Loss: 2.2414 Acc: 0.4483\n",
      "val Loss: 1.2668 Acc: 0.6510\n",
      "\n",
      "Epoch 9/24\n",
      "----------\n",
      "train Loss: 2.1993 Acc: 0.4553\n",
      "val Loss: 1.2526 Acc: 0.6613\n",
      "\n",
      "Epoch 10/24\n",
      "----------\n",
      "train Loss: 2.2289 Acc: 0.4560\n",
      "val Loss: 1.2040 Acc: 0.6760\n",
      "\n",
      "Epoch 11/24\n",
      "----------\n",
      "train Loss: 2.2345 Acc: 0.4424\n",
      "val Loss: 1.2885 Acc: 0.6496\n",
      "\n",
      "Epoch 12/24\n",
      "----------\n",
      "train Loss: 2.2779 Acc: 0.4428\n",
      "val Loss: 1.2547 Acc: 0.6701\n",
      "\n",
      "Epoch 13/24\n",
      "----------\n",
      "train Loss: 2.2109 Acc: 0.4516\n",
      "val Loss: 1.2843 Acc: 0.6672\n",
      "\n",
      "Epoch 14/24\n",
      "----------\n",
      "train Loss: 2.1907 Acc: 0.4549\n",
      "val Loss: 1.3029 Acc: 0.6496\n",
      "\n",
      "Epoch 15/24\n",
      "----------\n",
      "train Loss: 2.2011 Acc: 0.4560\n",
      "val Loss: 1.2628 Acc: 0.6642\n",
      "\n",
      "Epoch 16/24\n",
      "----------\n",
      "train Loss: 2.2319 Acc: 0.4611\n",
      "val Loss: 1.2077 Acc: 0.6745\n",
      "\n",
      "Epoch 17/24\n",
      "----------\n",
      "train Loss: 2.2411 Acc: 0.4472\n",
      "val Loss: 1.2430 Acc: 0.6789\n",
      "\n",
      "Epoch 18/24\n",
      "----------\n",
      "train Loss: 2.1933 Acc: 0.4641\n",
      "val Loss: 1.2132 Acc: 0.6804\n",
      "\n",
      "Epoch 19/24\n",
      "----------\n",
      "train Loss: 2.1518 Acc: 0.4677\n",
      "val Loss: 1.2357 Acc: 0.6804\n",
      "\n",
      "Epoch 20/24\n",
      "----------\n",
      "train Loss: 2.1661 Acc: 0.4718\n",
      "val Loss: 1.2031 Acc: 0.6804\n",
      "\n",
      "Epoch 21/24\n",
      "----------\n",
      "train Loss: 2.2066 Acc: 0.4527\n",
      "val Loss: 1.2954 Acc: 0.6466\n",
      "\n",
      "Epoch 22/24\n",
      "----------\n",
      "train Loss: 2.2201 Acc: 0.4641\n",
      "val Loss: 1.2342 Acc: 0.6789\n",
      "\n",
      "Epoch 23/24\n",
      "----------\n",
      "train Loss: 2.1395 Acc: 0.4850\n",
      "val Loss: 1.2598 Acc: 0.6628\n",
      "\n",
      "Epoch 24/24\n",
      "----------\n",
      "train Loss: 2.2180 Acc: 0.4490\n",
      "val Loss: 1.2300 Acc: 0.6848\n",
      "\n",
      "Training complete in 6m 32s\n",
      "Best val Acc: 0.684751\n"
     ]
    }
   ],
   "source": [
    "model_conv = train_model(model_conv, criterion, optimizer_conv,\n",
    "                         exp_lr_scheduler, num_epochs=25)"
   ]
  },
  {
   "cell_type": "code",
   "execution_count": 12,
   "metadata": {
    "collapsed": false,
    "jupyter": {
     "outputs_hidden": false
    }
   },
   "outputs": [
    {
     "data": {
      "image/png": "[encoded data removed]",
      "text/plain": [
       "<Figure size 640x480 with 1 Axes>"
      ]
     },
     "metadata": {},
     "output_type": "display_data"
    },
    {
     "data": {
      "image/png": "[encoded data removed]",
      "text/plain": [
       "<Figure size 640x480 with 1 Axes>"
      ]
     },
     "metadata": {},
     "output_type": "display_data"
    },
    {
     "data": {
      "image/png": "[encoded data removed]",
      "text/plain": [
       "<Figure size 640x480 with 1 Axes>"
      ]
     },
     "metadata": {},
     "output_type": "display_data"
    },
    {
     "data": {
      "image/png": "[encoded data removed]",
      "text/plain": [
       "<Figure size 640x480 with 1 Axes>"
      ]
     },
     "metadata": {},
     "output_type": "display_data"
    },
    {
     "data": {
      "image/png": "[encoded data removed]",
      "text/plain": [
       "<Figure size 640x480 with 1 Axes>"
      ]
     },
     "metadata": {},
     "output_type": "display_data"
    },
    {
     "data": {
      "image/png": "[encoded data removed]",
      "text/plain": [
       "<Figure size 640x480 with 1 Axes>"
      ]
     },
     "metadata": {},
     "output_type": "display_data"
    }
   ],
   "source": [
    "visualize_model(model_conv)\n",
    "\n",
    "plt.ioff()\n",
    "plt.show()"
   ]
  },
  {
   "cell_type": "code",
   "execution_count": null,
   "metadata": {},
   "outputs": [],
   "source": []
  }
 ],
 "metadata": {
  "kernelspec": {
   "display_name": "Python 3 (ipykernel)",
   "language": "python",
   "name": "python3"
  },
  "language_info": {
   "codemirror_mode": {
    "name": "ipython",
    "version": 3
   },
   "file_extension": ".py",
   "mimetype": "text/x-python",
   "name": "python",
   "nbconvert_exporter": "python",
   "pygments_lexer": "ipython3",
   "version": "3.8.10"
  }
 },
 "nbformat": 4,
 "nbformat_minor": 4
}
