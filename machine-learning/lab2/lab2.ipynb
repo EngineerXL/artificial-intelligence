{
 "cells": [
  {
   "cell_type": "code",
   "execution_count": 1,
   "id": "d84d98db-3b40-40ba-b48f-6501008d88b4",
   "metadata": {},
   "outputs": [],
   "source": [
    "import pickle\n",
    "import numpy as np\n",
    "import pandas as pd\n",
    "import seaborn as sns\n",
    "import matplotlib.pyplot as plt\n",
    "from random import randint\n",
    "from sklearn.base import BaseEstimator, ClassifierMixin, TransformerMixin\n",
    "from sklearn.pipeline import Pipeline\n",
    "from sklearn.model_selection import train_test_split, GridSearchCV, RandomizedSearchCV\n",
    "from sklearn.utils.validation import check_X_y, check_array, check_is_fitted\n",
    "from sklearn.utils.multiclass import unique_labels"
   ]
  },
  {
   "cell_type": "markdown",
   "id": "005b9685-ef88-49e3-a58f-f0e3504d1e33",
   "metadata": {},
   "source": [
    "Обработка набора данных"
   ]
  },
  {
   "cell_type": "code",
   "execution_count": 2,
   "id": "459fa920-1e13-4e5a-b253-5268aba888d0",
   "metadata": {},
   "outputs": [],
   "source": [
    "ds = pd.read_csv(\"../data/Smoker_dataset.csv\")\n",
    "\n",
    "ds = ds.rename(columns = {\"type\" : \"Is smoker?\", \"Condition\" : \"Has cancer?\"})\n",
    "\n",
    "ds = ds.dropna()\n",
    "\n",
    "ds[\"Has cancer?\"] = [1 if elem == \"Cancer\" else 0 for elem in ds[\"Has cancer?\"]]\n",
    "\n",
    "genes = [\"Gene2337\", \"Gene35715\", \"Gene12936\", \"Gene1689\", \"FGFR1\", \"GATA4\"]\n",
    "GOOD = 10.0\n",
    "\n",
    "for gene in genes:\n",
    "    ds = ds.loc[abs(ds[gene]) <= GOOD]"
   ]
  },
  {
   "cell_type": "markdown",
   "id": "f78d911c-e17c-47b7-a378-3892a1978716",
   "metadata": {},
   "source": [
    "Примененяю One-Hot Encoding к категориальному признаку"
   ]
  },
  {
   "cell_type": "code",
   "execution_count": 3,
   "id": "bd229bd3-b293-4c25-93a0-e39b981b31fe",
   "metadata": {},
   "outputs": [
    {
     "data": {
      "text/html": [
       "<div>\n",
       "<style scoped>\n",
       "    .dataframe tbody tr th:only-of-type {\n",
       "        vertical-align: middle;\n",
       "    }\n",
       "\n",
       "    .dataframe tbody tr th {\n",
       "        vertical-align: top;\n",
       "    }\n",
       "\n",
       "    .dataframe thead th {\n",
       "        text-align: right;\n",
       "    }\n",
       "</style>\n",
       "<table border=\"1\" class=\"dataframe\">\n",
       "  <thead>\n",
       "    <tr style=\"text-align: right;\">\n",
       "      <th></th>\n",
       "      <th>Gene2337</th>\n",
       "      <th>Gene35715</th>\n",
       "      <th>Gene12936</th>\n",
       "      <th>Gene1689</th>\n",
       "      <th>FGFR1</th>\n",
       "      <th>GATA4</th>\n",
       "      <th>Has cancer?</th>\n",
       "      <th>Is smoker?_Nonsmoker</th>\n",
       "      <th>Is smoker?_Smoker</th>\n",
       "    </tr>\n",
       "  </thead>\n",
       "  <tbody>\n",
       "    <tr>\n",
       "      <th>0</th>\n",
       "      <td>-4.750470</td>\n",
       "      <td>-1.518091</td>\n",
       "      <td>6.715013</td>\n",
       "      <td>-1.722331</td>\n",
       "      <td>0.170110</td>\n",
       "      <td>-7.846961</td>\n",
       "      <td>1</td>\n",
       "      <td>0</td>\n",
       "      <td>1</td>\n",
       "    </tr>\n",
       "    <tr>\n",
       "      <th>1</th>\n",
       "      <td>-5.183375</td>\n",
       "      <td>0.039654</td>\n",
       "      <td>2.529460</td>\n",
       "      <td>-1.323490</td>\n",
       "      <td>-0.315844</td>\n",
       "      <td>-4.447406</td>\n",
       "      <td>1</td>\n",
       "      <td>0</td>\n",
       "      <td>1</td>\n",
       "    </tr>\n",
       "    <tr>\n",
       "      <th>2</th>\n",
       "      <td>1.579079</td>\n",
       "      <td>1.588153</td>\n",
       "      <td>0.569724</td>\n",
       "      <td>-1.229601</td>\n",
       "      <td>-4.119116</td>\n",
       "      <td>0.649277</td>\n",
       "      <td>0</td>\n",
       "      <td>0</td>\n",
       "      <td>1</td>\n",
       "    </tr>\n",
       "    <tr>\n",
       "      <th>3</th>\n",
       "      <td>-1.557053</td>\n",
       "      <td>-3.818996</td>\n",
       "      <td>3.798518</td>\n",
       "      <td>-1.204911</td>\n",
       "      <td>1.010464</td>\n",
       "      <td>-6.712354</td>\n",
       "      <td>1</td>\n",
       "      <td>0</td>\n",
       "      <td>1</td>\n",
       "    </tr>\n",
       "    <tr>\n",
       "      <th>4</th>\n",
       "      <td>-1.329637</td>\n",
       "      <td>-3.623963</td>\n",
       "      <td>2.722249</td>\n",
       "      <td>-0.784387</td>\n",
       "      <td>1.564218</td>\n",
       "      <td>-5.580853</td>\n",
       "      <td>1</td>\n",
       "      <td>0</td>\n",
       "      <td>1</td>\n",
       "    </tr>\n",
       "  </tbody>\n",
       "</table>\n",
       "</div>"
      ],
      "text/plain": [
       "   Gene2337  Gene35715  Gene12936  Gene1689     FGFR1     GATA4  Has cancer?  \\\n",
       "0 -4.750470  -1.518091   6.715013 -1.722331  0.170110 -7.846961            1   \n",
       "1 -5.183375   0.039654   2.529460 -1.323490 -0.315844 -4.447406            1   \n",
       "2  1.579079   1.588153   0.569724 -1.229601 -4.119116  0.649277            0   \n",
       "3 -1.557053  -3.818996   3.798518 -1.204911  1.010464 -6.712354            1   \n",
       "4 -1.329637  -3.623963   2.722249 -0.784387  1.564218 -5.580853            1   \n",
       "\n",
       "   Is smoker?_Nonsmoker  Is smoker?_Smoker  \n",
       "0                     0                  1  \n",
       "1                     0                  1  \n",
       "2                     0                  1  \n",
       "3                     0                  1  \n",
       "4                     0                  1  "
      ]
     },
     "execution_count": 3,
     "metadata": {},
     "output_type": "execute_result"
    }
   ],
   "source": [
    "ds = pd.get_dummies(ds)\n",
    "ds.head()"
   ]
  },
  {
   "cell_type": "markdown",
   "id": "a7266536-3034-4cdc-a548-d268a307d9c4",
   "metadata": {},
   "source": [
    "Разбиваю на признаки и классы"
   ]
  },
  {
   "cell_type": "code",
   "execution_count": 4,
   "id": "1cc5c2ec-83e6-48e1-9dac-9cfbfb8bd1aa",
   "metadata": {},
   "outputs": [
    {
     "name": "stdout",
     "output_type": "stream",
     "text": [
      "(1000, 8)\n",
      "(1000,)\n"
     ]
    }
   ],
   "source": [
    "X = ds.drop(\"Has cancer?\", axis = 1).to_numpy()\n",
    "y = ds[\"Has cancer?\"].to_numpy()\n",
    "\n",
    "print(X.shape)\n",
    "print(y.shape)"
   ]
  },
  {
   "cell_type": "code",
   "execution_count": 5,
   "id": "93113b78-3a0b-4220-b34f-350dec47e521",
   "metadata": {},
   "outputs": [
    {
     "data": {
      "text/plain": [
       "array([[-4.75047047, -1.51809118,  6.71501286, -1.72233072,  0.17011048,\n",
       "        -7.84696068,  0.        ,  1.        ],\n",
       "       [-5.18337517,  0.03965445,  2.52946043, -1.32348957, -0.31584364,\n",
       "        -4.44740644,  0.        ,  1.        ],\n",
       "       [ 1.57907908,  1.5881532 ,  0.56972429, -1.22960145, -4.11911617,\n",
       "         0.64927698,  0.        ,  1.        ],\n",
       "       [-1.55705255, -3.81899603,  3.79851766, -1.20491135,  1.01046375,\n",
       "        -6.71235373,  0.        ,  1.        ],\n",
       "       [-1.32963731, -3.6239626 ,  2.72224926, -0.78438661,  1.56421809,\n",
       "        -5.58085274,  0.        ,  1.        ]])"
      ]
     },
     "execution_count": 5,
     "metadata": {},
     "output_type": "execute_result"
    }
   ],
   "source": [
    "X[:5]"
   ]
  },
  {
   "cell_type": "markdown",
   "id": "683f04cb-18fa-4c34-9516-10f52e0f9831",
   "metadata": {},
   "source": [
    "Нормализую все признаки, чтобы они были в промежутке $[-1, 1]$"
   ]
  },
  {
   "cell_type": "code",
   "execution_count": 6,
   "id": "bd5405aa-21bf-48ae-a248-6283e01d9adf",
   "metadata": {},
   "outputs": [],
   "source": [
    "from sklearn.preprocessing import normalize\n",
    "X = normalize(X, norm = \"max\", axis = 0)"
   ]
  },
  {
   "cell_type": "code",
   "execution_count": 7,
   "id": "1dffce13-d2bc-412c-bda1-9d6e6371899a",
   "metadata": {},
   "outputs": [
    {
     "data": {
      "text/plain": [
       "array([[-0.53243755, -0.20069442,  0.94794783, -0.22613268,  0.02647339,\n",
       "        -0.96918971,  0.        ,  1.        ],\n",
       "       [-0.58095794,  0.00524239,  0.35707996, -0.173767  , -0.04915306,\n",
       "        -0.54930574,  0.        ,  1.        ],\n",
       "       [ 0.17698478,  0.20995675,  0.08042708, -0.16144   , -0.64103609,\n",
       "         0.08019316,  0.        ,  1.        ],\n",
       "       [-0.17451603, -0.50487823,  0.53623078, -0.15819832,  0.15725309,\n",
       "        -0.82905273,  0.        ,  1.        ],\n",
       "       [-0.1490271 , -0.47909445,  0.38429566, -0.10298571,  0.24343092,\n",
       "        -0.68929937,  0.        ,  1.        ]])"
      ]
     },
     "execution_count": 7,
     "metadata": {},
     "output_type": "execute_result"
    }
   ],
   "source": [
    "X[:5]"
   ]
  },
  {
   "cell_type": "markdown",
   "id": "e99839e9-45d9-4caa-b5f1-db84ca4fd0f8",
   "metadata": {},
   "source": [
    "Разбиваю на обучающую и тестовую выборку"
   ]
  },
  {
   "cell_type": "code",
   "execution_count": 8,
   "id": "e0d03e97-476b-401b-b0d3-afd4391e49d4",
   "metadata": {},
   "outputs": [
    {
     "name": "stdout",
     "output_type": "stream",
     "text": [
      "(800, 8)\n",
      "(800,)\n",
      "(200, 8)\n",
      "(200,)\n"
     ]
    }
   ],
   "source": [
    "train_X, test_X, train_y, test_y = train_test_split(X, y, train_size = 0.8, random_state = 1, shuffle = True)\n",
    "\n",
    "print(train_X.shape)\n",
    "print(train_y.shape)\n",
    "\n",
    "print(test_X.shape)\n",
    "print(test_y.shape)"
   ]
  },
  {
   "cell_type": "markdown",
   "id": "9cc51e3d-836b-4b7b-81b9-f925695ef4d6",
   "metadata": {},
   "source": [
    "Функция, которая выводит Accuracy, Recall и Precision, рисует Confusion Matrix и ROC-кривую\n",
    "* Accuracy - число верно угаданных\n",
    "* Recall - полнота\n",
    "* Precision - точность"
   ]
  },
  {
   "cell_type": "code",
   "execution_count": 9,
   "id": "e9bcf272-48f0-4b36-89a6-4fbc0648515d",
   "metadata": {},
   "outputs": [],
   "source": [
    "from sklearn.metrics import accuracy_score, confusion_matrix, precision_score, recall_score, RocCurveDisplay, ConfusionMatrixDisplay\n",
    "\n",
    "def scores(model, X, y_true):\n",
    "    y_pred = model.predict(X)\n",
    "    print(\"Accuracy:\", accuracy_score(y_true, y_pred))\n",
    "    print(\"Recall:\", recall_score(y_true, y_pred))\n",
    "    print(\"Precision:\", precision_score(y_true, y_pred))\n",
    "    figure = plt.figure(figsize = (20, 5))\n",
    "    matr = confusion_matrix(y_true, y_pred)\n",
    "    ax = plt.subplot(1, 2, 1)\n",
    "    ConfusionMatrixDisplay(matr).plot(ax = ax)\n",
    "    ax = plt.subplot(1, 2, 2)\n",
    "    RocCurveDisplay.from_predictions(y_true = y_true, y_pred = y_pred, name = \"ROC-кривая\", ax = ax)\n",
    "    plt.show()"
   ]
  },
  {
   "cell_type": "markdown",
   "id": "61392850-b504-477a-9104-923fd8aec75d",
   "metadata": {},
   "source": [
    "Функция, которая печатает результат подбора гиперпараметров модели"
   ]
  },
  {
   "cell_type": "code",
   "execution_count": 10,
   "id": "bbce9887-801c-4ce6-90b5-5a498bcf5187",
   "metadata": {},
   "outputs": [],
   "source": [
    "def best(model):\n",
    "    print(\"Лучшие гиперпараметры модели:\", model.best_params_)\n",
    "    print(\"Лучший счёт модели:\", model.best_score_)"
   ]
  },
  {
   "cell_type": "markdown",
   "id": "be1306e7-2b8d-4e2e-b177-0cc5259d91f8",
   "metadata": {},
   "source": [
    "Использую [этот шаблон](https://github.com/scikit-learn-contrib/project-template/blob/master/skltemplate/_template.py) для реализации классификаторов"
   ]
  },
  {
   "cell_type": "markdown",
   "id": "bb6ef084-eef6-419a-be0e-0c43886a6711",
   "metadata": {},
   "source": [
    "## Дерево принятия решений"
   ]
  },
  {
   "cell_type": "markdown",
   "id": "d5bcce8d-dccf-4295-aa90-4901b7add70e",
   "metadata": {},
   "source": [
    "Хранение данных в вершине дерева. Хранится предикат $X_{ind} \\ge value$, если вершина не лист, иначе класс $value$"
   ]
  },
  {
   "cell_type": "code",
   "execution_count": 11,
   "id": "b4ed3fbc-f926-4c2a-a4d5-76a5cf0f1b51",
   "metadata": {},
   "outputs": [],
   "source": [
    "class TreeData():\n",
    "    def __init__(self, value = None, ind = None, leaf = True):\n",
    "        self.value = value\n",
    "        self.ind = ind\n",
    "        self.leaf = leaf\n",
    "    \n",
    "    def is_leaf(self):\n",
    "        return self.leaf\n",
    "    \n",
    "    def decide(self, X):\n",
    "        if (self.is_leaf()):\n",
    "            return None\n",
    "        else:\n",
    "            return True if (X[self.ind] >= self.value) else False\n",
    "    \n",
    "    def predict(self, X):\n",
    "        if (self.is_leaf()):\n",
    "            return value\n",
    "        else:\n",
    "            return None"
   ]
  },
  {
   "cell_type": "markdown",
   "id": "4268e300-92b8-41f5-8bdd-c9956299c224",
   "metadata": {},
   "source": [
    "Класс для хранения дерева. Реализован как список смежности"
   ]
  },
  {
   "cell_type": "code",
   "execution_count": 12,
   "id": "2846343a-9bcc-4229-8dcd-431e1822c372",
   "metadata": {},
   "outputs": [],
   "source": [
    "class Graph:\n",
    "    def __init__(self):\n",
    "        self.data = []\n",
    "        self.info = []\n",
    "        self.size = 0\n",
    "        self.add()\n",
    "    \n",
    "    def can_go(self, u, c):\n",
    "        return c in self.data[u]\n",
    "    \n",
    "    def go(self, u, c):\n",
    "        return self.data[u][c]\n",
    "    \n",
    "    def set_go(self, u, c, v):\n",
    "        self.data[u][c] = v\n",
    "\n",
    "    def get_tree_data(self, u):\n",
    "        return self.info[u]\n",
    "    \n",
    "    def set_tree_data(self, u, tree_data):\n",
    "        self.info[u] = tree_data\n",
    "    \n",
    "    def add(self):\n",
    "        self.data.append(dict())\n",
    "        self.info.append(TreeData())\n",
    "        self.size += 1\n",
    "        return self.size - 1\n",
    "\n",
    "    def is_leaf(self, u):\n",
    "        return self.info[u].is_leaf()"
   ]
  },
  {
   "cell_type": "markdown",
   "id": "c91f1c6f-7236-4a18-b516-fb64088f8ed9",
   "metadata": {},
   "source": [
    "Решающее дерево"
   ]
  },
  {
   "cell_type": "code",
   "execution_count": 13,
   "id": "f5965601-c45a-44e4-91dd-906bd571a239",
   "metadata": {},
   "outputs": [],
   "source": [
    "class DecisionTree:\n",
    "    def __init__(self, max_depth, min_count, rnd_split):\n",
    "        self.tree = Graph()\n",
    "        self.max_depth = max_depth\n",
    "        self.min_count = min_count\n",
    "        self.rnd_split = rnd_split\n",
    "        self.data = []\n",
    "    \n",
    "    # Подсчитывает количество 0 и 1\n",
    "    def get_count(self, arr):\n",
    "        res = [0 for _ in range(2)]\n",
    "        for elem in arr:\n",
    "            res[elem] += 1\n",
    "        return res\n",
    "    \n",
    "    def ans(self, cnt0, cnt1):\n",
    "        if (cnt0 + cnt1 == 0):\n",
    "            return None\n",
    "        else:\n",
    "            return (cnt1) / (cnt0 + cnt1)\n",
    "    \n",
    "    def ans_class(self, p):\n",
    "        return 1 if (p > 0.5) else 0\n",
    "        \n",
    "    def decide(self, X):\n",
    "        return self.decide_rec(0, X)\n",
    "    \n",
    "    def decide_rec(self, u, X):\n",
    "        u_data = self.tree.get_tree_data(u)\n",
    "        if (self.tree.is_leaf(u)):\n",
    "            return u_data.value\n",
    "        else:\n",
    "            dec = u_data.decide(X)\n",
    "            return self.decide_rec(self.tree.go(u, dec), X)\n",
    "    \n",
    "    def make_leaf(self, u, value):\n",
    "        u_data = TreeData(value = value, leaf = True)\n",
    "        self.tree.set_tree_data(u, u_data)\n",
    "    \n",
    "    # Генерирует случайные индексы без повторений\n",
    "    def rnd_ids(self, n):\n",
    "        res = []\n",
    "        while (len(res) * len(res) < n):\n",
    "            rnd_num = randint(0, n - 1)\n",
    "            while (rnd_num in res):\n",
    "                rnd_num = randint(0, n - 1)\n",
    "            res.append(rnd_num)\n",
    "        return res\n",
    "    \n",
    "    def build(self, X, y):\n",
    "        self.X = X\n",
    "        self.y = y\n",
    "        self.n = X.shape[0]\n",
    "        self.d = X.shape[1]\n",
    "        ids = np.arange(self.n)\n",
    "        self.build_rec(0, ids, 1)\n",
    "    \n",
    "    def build_rec(self, u, ids, h):\n",
    "        X = self.X[ids]\n",
    "        y = self.y[ids]\n",
    "        u_cnt = self.get_count(y)\n",
    "        u_ans = self.ans(u_cnt[0], u_cnt[1])\n",
    "        stop1 = (len(y) <= self.min_count)\n",
    "        stop2 = (h > self.max_depth)\n",
    "        stop3 = (u_ans == None)\n",
    "        if (stop1 or stop2 or stop3):\n",
    "            self.make_leaf(u, u_ans)\n",
    "            return\n",
    "        z = self.ans_class(u_ans)\n",
    "        n = len(ids)\n",
    "        min_loss = n - u_cnt[z]\n",
    "        res = (-1, -1)\n",
    "        u_data = self.tree.get_tree_data(u)\n",
    "        split_ids = (self.rnd_ids(self.d) if self.rnd_split else range(self.d))\n",
    "        for i in split_ids:\n",
    "            cnt_l, cnt_r = [0 for _ in range(2)], [elem for elem in u_cnt]\n",
    "            tmp = sorted([(elem[i], y[j]) for (j, elem) in enumerate(X)])\n",
    "            loss_l, loss_r = 0, n - u_cnt[z]\n",
    "            size_l, size_r = 0, n\n",
    "            for j in range(self.n):\n",
    "                while (size_l < n and tmp[size_l][0] <= tmp[j][0]):\n",
    "                    y_l = tmp[size_l][1]\n",
    "                    cnt_l[y_l] += 1\n",
    "                    cnt_r[y_l] -= 1\n",
    "                    size_l += 1\n",
    "                    size_r -= 1\n",
    "                if (size_l == 0 or size_r == 0):\n",
    "                    continue\n",
    "                ans_l = self.ans_class(self.ans(cnt_l[0], cnt_l[1]))\n",
    "                ans_r = self.ans_class(self.ans(cnt_r[0], cnt_r[1]))\n",
    "                loss_l = size_l - cnt_l[ans_l]\n",
    "                loss_r = size_r - cnt_r[ans_r]\n",
    "                split_loss = loss_l + loss_r\n",
    "                if (split_loss < min_loss):\n",
    "                    min_loss = split_loss\n",
    "                    res = (i, tmp[j][0])\n",
    "        if (res == (-1, -1)):\n",
    "            self.make_leaf(u, u_ans)\n",
    "            return\n",
    "        u_data = TreeData(value = res[1], ind = res[0], leaf = False)\n",
    "        self.tree.set_tree_data(u, u_data)\n",
    "        l, r = [], []\n",
    "        for (j, elem) in enumerate(X):\n",
    "            if (u_data.decide(elem)):\n",
    "                l.append(j)\n",
    "            else:\n",
    "                r.append(j)\n",
    "        l, r = np.array(l), np.array(r)\n",
    "        if (len(l) == 0 or len(r) == 0):\n",
    "            self.make_leaf(u, u_ans)\n",
    "            return\n",
    "        ul = self.tree.add()\n",
    "        ur = self.tree.add()\n",
    "        self.tree.set_go(u, True, ul)\n",
    "        self.tree.set_go(u, False, ur)\n",
    "        self.build_rec(ul, l, h + 1)\n",
    "        self.build_rec(ur, r, h + 1)"
   ]
  },
  {
   "cell_type": "markdown",
   "id": "7ec4c83e-fb6d-41d7-9da5-9b81522fcb7c",
   "metadata": {},
   "source": [
    "Классификатор"
   ]
  },
  {
   "cell_type": "code",
   "execution_count": 14,
   "id": "e9e3ae29-2173-41a2-a470-dffa4365371e",
   "metadata": {},
   "outputs": [],
   "source": [
    "class MyDecisionTreeClassifier(ClassifierMixin, BaseEstimator):\n",
    "    def __init__(self, max_depth = 10, min_count = 50, rnd_split = False):\n",
    "        self.max_depth = max_depth\n",
    "        self.min_count = min_count\n",
    "        self.rnd_split = rnd_split\n",
    "        self.tree = DecisionTree(max_depth, min_count, rnd_split)\n",
    "\n",
    "    def fit(self, X, y):\n",
    "        # Check that X and y have correct shape\n",
    "        X, y = check_X_y(X, y)\n",
    "        # Store the classes seen during fit\n",
    "        self.classes_ = unique_labels(y)\n",
    "\n",
    "        self.X_ = X\n",
    "        self.y_ = y\n",
    "        self.tree.build(X, y)\n",
    "        # Return the classifier\n",
    "        return self\n",
    "\n",
    "    def predict(self, X):\n",
    "        # Check is fit had been called\n",
    "        check_is_fitted(self, ['X_', 'y_'])\n",
    "\n",
    "        # Input validation\n",
    "        X = check_array(X)\n",
    "        \n",
    "        p = []\n",
    "        for elem in X:\n",
    "            z = self.tree.decide(elem)\n",
    "            p.append(1 if z > 0.5 else 0)\n",
    "        return np.array(p)"
   ]
  },
  {
   "cell_type": "code",
   "execution_count": 15,
   "id": "f585e0e6-a30b-4fd7-b40d-619d1d74f827",
   "metadata": {},
   "outputs": [
    {
     "name": "stdout",
     "output_type": "stream",
     "text": [
      "Лучшие гиперпараметры модели: {'dtc__max_depth': 1, 'dtc__min_count': 1}\n",
      "Лучший счёт модели: 0.9875\n"
     ]
    }
   ],
   "source": [
    "gscv1 = GridSearchCV(Pipeline([(\"dtc\", MyDecisionTreeClassifier())]),\n",
    "                    {\"dtc__max_depth\" : [1, 2, 4, 8],\n",
    "                     \"dtc__min_count\" : [1, 2, 5, 10, 25, 50]})\n",
    "gscv1.fit(train_X, train_y)\n",
    "best(gscv1)"
   ]
  },
  {
   "cell_type": "code",
   "execution_count": 16,
   "id": "a993a068-afe6-4dc0-8566-73b5e1e25f1b",
   "metadata": {},
   "outputs": [
    {
     "name": "stdout",
     "output_type": "stream",
     "text": [
      "Accuracy: 0.985\n",
      "Recall: 0.9726027397260274\n",
      "Precision: 0.9861111111111112\n"
     ]
    },
    {
     "data": {
      "image/png": "[encoded data removed]",
      "text/plain": [
       "<Figure size 1440x360 with 3 Axes>"
      ]
     },
     "metadata": {
      "needs_background": "light"
     },
     "output_type": "display_data"
    }
   ],
   "source": [
    "DTC_best_my = gscv1.best_estimator_\n",
    "scores(DTC_best_my, test_X, test_y)"
   ]
  },
  {
   "cell_type": "code",
   "execution_count": 17,
   "id": "e918bb9b-271f-4cfb-b877-bab6ed3c824f",
   "metadata": {},
   "outputs": [],
   "source": [
    "f = open(\"DTC.pkl\", \"wb\")\n",
    "pickle.dump(DTC_best_my, f, pickle.HIGHEST_PROTOCOL)\n",
    "f.close()"
   ]
  },
  {
   "cell_type": "markdown",
   "id": "5fc04aed-5022-4c3b-a6e9-4c01bd036378",
   "metadata": {},
   "source": [
    "[Decision Tree Classifier](sklearn.tree.DecisionTreeClassifier) из библиотеки scikit-learn"
   ]
  },
  {
   "cell_type": "code",
   "execution_count": 18,
   "id": "d5bfac5c-c84a-4222-8b95-76a2eb48987b",
   "metadata": {},
   "outputs": [
    {
     "name": "stdout",
     "output_type": "stream",
     "text": [
      "Лучшие гиперпараметры модели: {'dct__criterion': 'entropy', 'dct__max_depth': 8, 'dct__splitter': 'random'}\n",
      "Лучший счёт модели: 0.9925\n"
     ]
    }
   ],
   "source": [
    "from sklearn.tree import DecisionTreeClassifier\n",
    "\n",
    "gscv2 = GridSearchCV(Pipeline([(\"dct\", DecisionTreeClassifier())]),\n",
    "                    {\"dct__criterion\" : [\"gini\", \"entropy\", \"log_loss\"],\n",
    "                     \"dct__splitter\" : [\"best\", \"random\"],\n",
    "                     \"dct__max_depth\" : [1, 2, 4, 8]})\n",
    "gscv2.fit(train_X, train_y)\n",
    "best(gscv2)"
   ]
  },
  {
   "cell_type": "code",
   "execution_count": 19,
   "id": "b15fb621-fafb-4aaf-a026-7af7de6f5c98",
   "metadata": {},
   "outputs": [
    {
     "name": "stdout",
     "output_type": "stream",
     "text": [
      "Accuracy: 0.98\n",
      "Recall: 0.9726027397260274\n",
      "Precision: 0.9726027397260274\n"
     ]
    },
    {
     "data": {
      "image/png": "[encoded data removed]",
      "text/plain": [
       "<Figure size 1440x360 with 3 Axes>"
      ]
     },
     "metadata": {
      "needs_background": "light"
     },
     "output_type": "display_data"
    }
   ],
   "source": [
    "DTC_best = gscv2.best_estimator_\n",
    "scores(DTC_best, test_X, test_y)"
   ]
  },
  {
   "cell_type": "markdown",
   "id": "0210d525-7a0f-4b3b-803c-a0dcfbb64e31",
   "metadata": {},
   "source": [
    "## Случайный лес"
   ]
  },
  {
   "cell_type": "markdown",
   "id": "314e05e4-b036-4017-9944-1c466eae8350",
   "metadata": {},
   "source": [
    "Классификатор содержит список решающих деревьев"
   ]
  },
  {
   "cell_type": "code",
   "execution_count": 20,
   "id": "a20a9a31-1b44-4881-b5f5-d82734d88c67",
   "metadata": {},
   "outputs": [],
   "source": [
    "class MyRandomForestClassifier(ClassifierMixin, BaseEstimator):\n",
    "    def __init__(self, n_trees = 10, max_depth = 2, min_count = 5):\n",
    "        self.n_trees = n_trees\n",
    "        self.max_depth = max_depth\n",
    "        self.min_count = min_count\n",
    "        self.trees = [DecisionTree(max_depth, min_count, rnd_split = True) for _ in range(self.n_trees)]\n",
    "\n",
    "    def fit(self, X, y):\n",
    "        # Check that X and y have correct shape\n",
    "        X, y = check_X_y(X, y)\n",
    "        # Store the classes seen during fit\n",
    "        self.classes_ = unique_labels(y)\n",
    "\n",
    "        self.X_ = X\n",
    "        self.y_ = y\n",
    "        for (i, tree) in enumerate(self.trees):\n",
    "            rnd_ids = np.random.choice(len(X), (2 * len(X)) // self.n_trees)\n",
    "            X_sub = X[rnd_ids]\n",
    "            y_sub = y[rnd_ids]\n",
    "            tree.build(X_sub, y_sub)\n",
    "        # Return the classifier\n",
    "        return self\n",
    "\n",
    "    def predict(self, X):\n",
    "        # Check is fit had been called\n",
    "        check_is_fitted(self, ['X_', 'y_'])\n",
    "\n",
    "        # Input validation\n",
    "        X = check_array(X)\n",
    "\n",
    "        p = []\n",
    "        for elem in X:\n",
    "            z = 0\n",
    "            for tree in self.trees:\n",
    "                z += tree.decide(elem)\n",
    "            z /= self.n_trees\n",
    "            p.append(1 if z > 0.5 else 0)\n",
    "        return np.array(p)"
   ]
  },
  {
   "cell_type": "code",
   "execution_count": 21,
   "id": "87792315-82e8-4698-b04a-37c2f2f301ee",
   "metadata": {},
   "outputs": [
    {
     "name": "stdout",
     "output_type": "stream",
     "text": [
      "Лучшие гиперпараметры модели: {'rfc__max_depth': 1, 'rfc__min_count': 10, 'rfc__n_trees': 25}\n",
      "Лучший счёт модели: 0.5912499999999999\n"
     ]
    }
   ],
   "source": [
    "gscv3 = GridSearchCV(Pipeline([(\"rfc\", MyRandomForestClassifier())]),\n",
    "                    {\"rfc__n_trees\" : [25, 50, 100],\n",
    "                     \"rfc__max_depth\" : [1, 2, 4],\n",
    "                     \"rfc__min_count\" : [10, 25, 50]})\n",
    "gscv3.fit(train_X, train_y)\n",
    "best(gscv3)"
   ]
  },
  {
   "cell_type": "code",
   "execution_count": 22,
   "id": "4acc12a2-f3f9-49be-af61-5a8dd8e131ca",
   "metadata": {},
   "outputs": [
    {
     "name": "stdout",
     "output_type": "stream",
     "text": [
      "Accuracy: 0.985\n",
      "Recall: 0.9726027397260274\n",
      "Precision: 0.9861111111111112\n"
     ]
    },
    {
     "data": {
      "image/png": "[encoded data removed]",
      "text/plain": [
       "<Figure size 1440x360 with 3 Axes>"
      ]
     },
     "metadata": {
      "needs_background": "light"
     },
     "output_type": "display_data"
    }
   ],
   "source": [
    "RFC_best_my = gscv3.best_estimator_\n",
    "scores(RFC_best_my, test_X, test_y)"
   ]
  },
  {
   "cell_type": "code",
   "execution_count": 23,
   "id": "235e222f-3a9d-418b-a4c0-4c0dac584624",
   "metadata": {},
   "outputs": [],
   "source": [
    "f = open(\"RFC.pkl\", \"wb\")\n",
    "pickle.dump(RFC_best_my, f, pickle.HIGHEST_PROTOCOL)\n",
    "f.close()"
   ]
  },
  {
   "cell_type": "markdown",
   "id": "49a5ce04-2b56-46b7-8b4a-0d5eac524d35",
   "metadata": {},
   "source": [
    "[Random Forest Classifier](https://scikit-learn.org/stable/modules/generated/sklearn.ensemble.RandomForestClassifier.html) из библиотеки scikit-learn"
   ]
  },
  {
   "cell_type": "code",
   "execution_count": 24,
   "id": "040d5f8f-c1a7-4397-871a-8b7cc5dbd3e7",
   "metadata": {},
   "outputs": [
    {
     "name": "stdout",
     "output_type": "stream",
     "text": [
      "Лучшие гиперпараметры модели: {'dct__criterion': 'gini', 'dct__max_depth': 4, 'dct__n_estimators': 100}\n",
      "Лучший счёт модели: 0.99375\n"
     ]
    }
   ],
   "source": [
    "from sklearn.ensemble import RandomForestClassifier\n",
    "\n",
    "gscv4 = GridSearchCV(Pipeline([(\"dct\", RandomForestClassifier())]),\n",
    "                    {\"dct__n_estimators\" : [25, 50, 100],\n",
    "                     \"dct__criterion\" : [\"gini\", \"entropy\", \"log_loss\"],\n",
    "                     \"dct__max_depth\" : [1, 2, 4]})\n",
    "gscv4.fit(train_X, train_y)\n",
    "best(gscv4)"
   ]
  },
  {
   "cell_type": "code",
   "execution_count": 25,
   "id": "459a0778-18c5-4b2f-bf8e-f329db77468f",
   "metadata": {},
   "outputs": [
    {
     "name": "stdout",
     "output_type": "stream",
     "text": [
      "Accuracy: 0.99\n",
      "Recall: 0.9863013698630136\n",
      "Precision: 0.9863013698630136\n"
     ]
    },
    {
     "data": {
      "image/png": "[encoded data removed]",
      "text/plain": [
       "<Figure size 1440x360 with 3 Axes>"
      ]
     },
     "metadata": {
      "needs_background": "light"
     },
     "output_type": "display_data"
    }
   ],
   "source": [
    "RFC_best = gscv4.best_estimator_\n",
    "scores(RFC_best, test_X, test_y)"
   ]
  },
  {
   "cell_type": "markdown",
   "id": "3ea8cc23-2520-46d4-b725-52a031344145",
   "metadata": {},
   "source": [
    "## Градиентный бустинг"
   ]
  },
  {
   "cell_type": "markdown",
   "id": "baa715b0-8c9f-48b1-96d5-9618f9b4852f",
   "metadata": {},
   "source": [
    "[GradientBoostingClassifier](https://scikit-learn.org/stable/modules/generated/sklearn.ensemble.GradientBoostingClassifier.html) из scikit-learn"
   ]
  },
  {
   "cell_type": "code",
   "execution_count": 26,
   "id": "a0f77a9d-b505-42d0-870a-97f2324124c3",
   "metadata": {},
   "outputs": [
    {
     "name": "stdout",
     "output_type": "stream",
     "text": [
      "Лучшие гиперпараметры модели: {'gbc__learning_rate': 0.01, 'gbc__n_estimators': 50}\n",
      "Лучший счёт модели: 0.99125\n"
     ]
    }
   ],
   "source": [
    "from sklearn.ensemble import GradientBoostingClassifier\n",
    "\n",
    "gscv5 = GridSearchCV(Pipeline([(\"gbc\", GradientBoostingClassifier())]),\n",
    "                    {\"gbc__learning_rate\" : [1e-1, 1e-2, 1e-3],\n",
    "                     \"gbc__n_estimators\" : [50, 100]})\n",
    "gscv5.fit(train_X, train_y)\n",
    "best(gscv5)"
   ]
  },
  {
   "cell_type": "code",
   "execution_count": 27,
   "id": "e8786767-5b2e-4821-8c77-05e18e9d5d57",
   "metadata": {},
   "outputs": [
    {
     "name": "stdout",
     "output_type": "stream",
     "text": [
      "Accuracy: 0.99\n",
      "Recall: 0.9863013698630136\n",
      "Precision: 0.9863013698630136\n"
     ]
    },
    {
     "data": {
      "image/png": "[encoded data removed]",
      "text/plain": [
       "<Figure size 1440x360 with 3 Axes>"
      ]
     },
     "metadata": {
      "needs_background": "light"
     },
     "output_type": "display_data"
    }
   ],
   "source": [
    "GBC_best = gscv5.best_estimator_\n",
    "scores(GBC_best, test_X, test_y)"
   ]
  },
  {
   "cell_type": "markdown",
   "id": "dd3dbd42-aacd-48c2-8bd3-a8cb74681032",
   "metadata": {},
   "source": [
    "## Голосование"
   ]
  },
  {
   "cell_type": "markdown",
   "id": "f44d45c4-ac76-4c6e-b377-8e6c59d8bed6",
   "metadata": {},
   "source": [
    "Для реализации жёсткого и мягкого голосований сделаю модели, которые возвращают вероятности"
   ]
  },
  {
   "cell_type": "markdown",
   "id": "0677e8a6-cfec-49ba-90e0-0ae8ae2a2996",
   "metadata": {},
   "source": [
    "kNN из прошлой работы"
   ]
  },
  {
   "cell_type": "code",
   "execution_count": 28,
   "id": "fa23e191-336e-4f70-9de3-0a64263fd3ac",
   "metadata": {},
   "outputs": [],
   "source": [
    "from sklearn.metrics import euclidean_distances\n",
    "\n",
    "class kNN_p(ClassifierMixin, BaseEstimator):\n",
    "    def __init__(self, k = 1):\n",
    "        self.k = k\n",
    "\n",
    "    def fit(self, X, y):\n",
    "        # Check that X and y have correct shape\n",
    "        X, y = check_X_y(X, y)\n",
    "        # Store the classes seen during fit\n",
    "        self.classes_ = unique_labels(y)\n",
    "        \n",
    "        self.X_ = X\n",
    "        self.y_ = y\n",
    "        # Return the classifier\n",
    "        return self\n",
    "\n",
    "    def predict(self, X):\n",
    "        # Check is fit had been called\n",
    "        check_is_fitted(self, ['X_', 'y_'])\n",
    "        \n",
    "        # Input validation\n",
    "        X = check_array(X)\n",
    "        \n",
    "        p = np.ndarray((X.shape[0],))\n",
    "        for (i, elem) in enumerate(X):\n",
    "            distances = euclidean_distances([elem], self.X_)[0]\n",
    "            neighbors = np.argpartition(distances, kth = self. k - 1)\n",
    "            k_neighbors = neighbors[:self.k]\n",
    "            labels = self.y_[k_neighbors]\n",
    "            cnt = [0 for _ in range(2)]\n",
    "            for elem in labels:\n",
    "                cnt[elem] += 1\n",
    "            p[i] = cnt[1] / (cnt[0] + cnt[1])\n",
    "        return p"
   ]
  },
  {
   "cell_type": "markdown",
   "id": "e0bacad9-4900-43e5-9ab6-4d0889bb99ec",
   "metadata": {},
   "source": [
    "Логистическая регрессия из прошлой работы"
   ]
  },
  {
   "cell_type": "code",
   "execution_count": 29,
   "id": "8c194c4b-a840-48fd-95a4-c112d0e44629",
   "metadata": {},
   "outputs": [],
   "source": [
    "class Net:\n",
    "    def __init__(self, loss_function):\n",
    "        self.layers = []\n",
    "        self.loss = loss_function()\n",
    "    \n",
    "    def append(self, layer):\n",
    "        self.layers.append(layer)\n",
    "    \n",
    "    # Вычисление предсказания\n",
    "    def forward(self, x):\n",
    "        for layer in self.layers:\n",
    "            x = layer.forward(x)\n",
    "        return x\n",
    "\n",
    "    def backward(self, z):\n",
    "        for layer in self.layers[::-1]:\n",
    "            z = layer.backward(z)\n",
    "        return z\n",
    "    \n",
    "    # Вычисление значения функции потерь\n",
    "    def forward_loss(self, x, y):\n",
    "        p = self.forward(x)\n",
    "        return self.loss.forward(p, y)\n",
    "    \n",
    "    def backward_loss(self, l):\n",
    "        dp = None\n",
    "        dp = self.loss.backward(l)\n",
    "        return self.backward(dp)\n",
    "    \n",
    "    def update(self, step):\n",
    "        for layer in self.layers:\n",
    "            if \"update\" in layer.__dir__():\n",
    "                layer.update(step)\n",
    "    \n",
    "    # Эпоха обучения на данных x, y\n",
    "    def train_epoch(self, x, y, batch_size = 100, step = 1e-7):\n",
    "        for i in range(0, len(x), batch_size):\n",
    "            xb = x[i:i + batch_size]\n",
    "            yb = y[i:i + batch_size]\n",
    "\n",
    "            loss = self.forward_loss(xb, yb)\n",
    "            dx = self.backward_loss(loss)\n",
    "            \n",
    "            self.update(step)"
   ]
  },
  {
   "cell_type": "code",
   "execution_count": 30,
   "id": "cd8ee12d-e449-4755-bd51-5d4697f855a5",
   "metadata": {},
   "outputs": [],
   "source": [
    "class Linear:\n",
    "    def __init__(self, n, m):\n",
    "        mu = 0.0\n",
    "        sigma = 1.0 / np.sqrt(2.0 * n)\n",
    "        self.W = np.random.normal(mu, sigma, (m, n))\n",
    "        self.b = np.zeros((1, m))\n",
    "        self.dW = np.zeros((m, n))\n",
    "        self.db = np.zeros((1, m))\n",
    "    \n",
    "    def forward(self, x):\n",
    "        self.x = x\n",
    "        z = np.dot(x, self.W.T) + self.b\n",
    "        return z\n",
    "\n",
    "    def backward(self, dz):\n",
    "        dx = np.dot(dz, self.W)\n",
    "        dW = np.dot(dz.T, self.x)\n",
    "        db = dz.sum(axis = 0)\n",
    "        self.dW = dW\n",
    "        self.db = db\n",
    "        return dx\n",
    "    \n",
    "    def update(self, step):\n",
    "        self.W -= step * self.dW\n",
    "        self.b -= step * self.db"
   ]
  },
  {
   "cell_type": "code",
   "execution_count": 31,
   "id": "4286e48f-a006-4ebe-a54d-530be6f3ace1",
   "metadata": {},
   "outputs": [],
   "source": [
    "class Sigmoid:\n",
    "    def forward(self, x):\n",
    "        self.y = 1.0 / (1.0 + np.exp(-x))\n",
    "        return self.y\n",
    "    \n",
    "    def backward(self, dy):\n",
    "        return self.y * (1.0 - self.y) * dy"
   ]
  },
  {
   "cell_type": "code",
   "execution_count": 32,
   "id": "8343a670-9767-4375-bfcd-d7ff4f391ddc",
   "metadata": {},
   "outputs": [],
   "source": [
    "class BinaryCrossEntropy:\n",
    "    def forward(self, p, y):\n",
    "        y = y.reshape((y.shape[0], 1))\n",
    "        self.p = p\n",
    "        self.y = y\n",
    "        res = y * np.log(p) + (1 - y) * np.log(1 - p)\n",
    "        return -np.mean(res)\n",
    "    \n",
    "    def backward(self, loss):\n",
    "        res = (self.p - self.y) / (self.p * (1 - self.p))\n",
    "        return res / self.p.shape[0]"
   ]
  },
  {
   "cell_type": "code",
   "execution_count": 33,
   "id": "ed861d3a-8a46-4387-88d0-d752cc9baa97",
   "metadata": {},
   "outputs": [],
   "source": [
    "class LogisticRegression_p(ClassifierMixin, BaseEstimator):\n",
    "    def __init__(self, epoches = 1, batch_size = 10, SGD_step = 0.001):\n",
    "        self.epoches = epoches\n",
    "        self.batch_size = batch_size\n",
    "        self.SGD_step = SGD_step\n",
    "        self.Net = Net(BinaryCrossEntropy)\n",
    "        self.Net.append(Linear(8, 1))\n",
    "        self.Net.append(Sigmoid())\n",
    "\n",
    "    def fit(self, X, y):\n",
    "        # Check that X and y have correct shape\n",
    "        X, y = check_X_y(X, y)\n",
    "        # Store the classes seen during fit\n",
    "        self.classes_ = unique_labels(y)\n",
    "\n",
    "        self.X_ = X\n",
    "        self.y_ = y\n",
    "        for _ in range(self.epoches):\n",
    "            self.Net.train_epoch(X, y, self.batch_size, self.SGD_step)\n",
    "        # Return the classifier\n",
    "        return self\n",
    "\n",
    "    def predict(self, X):\n",
    "        # Check is fit had been called\n",
    "        check_is_fitted(self, ['X_', 'y_'])\n",
    "        \n",
    "        # Input validation\n",
    "        X = check_array(X)\n",
    "        \n",
    "        n = X.shape[0]\n",
    "        y = self.Net.forward(X).reshape((n,))\n",
    "        return y\n",
    "    \n",
    "    def getW(self):\n",
    "        return self.Net.layers[0].W\n",
    "    \n",
    "    def getb(self):\n",
    "        return self.Net.layers[0].b"
   ]
  },
  {
   "cell_type": "markdown",
   "id": "f0e1b272-3b5f-4e61-8a63-f369acf262fe",
   "metadata": {},
   "source": [
    "Метод опорных векторов с мягким зазором из прошлой работы"
   ]
  },
  {
   "cell_type": "code",
   "execution_count": 34,
   "id": "7dd54fd3-70f1-43b6-916a-f8ec34571958",
   "metadata": {},
   "outputs": [],
   "source": [
    "class SoftMarginSVM:\n",
    "    def __init__(self, n, alpha):\n",
    "        self.alpha = alpha\n",
    "        mu = 0.0\n",
    "        sigma = 1.0 / np.sqrt(n)\n",
    "        self.W = np.random.normal(mu, sigma, (1, n + 1))\n",
    "    \n",
    "    def forward(self, x):\n",
    "        z = np.dot(x, self.W.T)\n",
    "        return z\n",
    "    \n",
    "    # Добавляет столбец из единиц\n",
    "    def add_ones(self, x):\n",
    "        ones = np.ones((x.shape[0], 1))\n",
    "        return np.hstack((x, ones))\n",
    "    \n",
    "    def predict(self, x):\n",
    "        res = self.forward(self.add_ones(x))\n",
    "        return 1.0 / (np.exp(-res) + 1.0)\n",
    "    \n",
    "    def train_epoch(self, x, y, batch_size = 100, step = 1e-7):\n",
    "        x = self.add_ones(x)\n",
    "        y = np.where(y > 0, 1, -1)\n",
    "        for i in range(0, len(x), batch_size):\n",
    "            xb = x[i:i + batch_size]\n",
    "            yb = y[i:i + batch_size]\n",
    "\n",
    "            pred = self.forward(xb)\n",
    "            grad = self.alpha * self.W\n",
    "            for i in range(len(xb)):\n",
    "                if (yb[i] * pred[i] < 1):\n",
    "                    grad -= yb[i] * xb[i]\n",
    "            self.W -= step * grad"
   ]
  },
  {
   "cell_type": "code",
   "execution_count": 35,
   "id": "55c1f8a2-10bc-43db-8fb2-9c3bdb70547a",
   "metadata": {},
   "outputs": [],
   "source": [
    "class SVM_p(ClassifierMixin, BaseEstimator):\n",
    "    def __init__(self, epoches = 1, batch_size = 10, SGD_step = 0.001, alpha = 0.1):\n",
    "        self.epoches = epoches\n",
    "        self.batch_size = batch_size\n",
    "        self.SGD_step = SGD_step\n",
    "        self.alpha = alpha\n",
    "        self.Net = SoftMarginSVM(8, alpha)\n",
    "\n",
    "    def fit(self, X, y):\n",
    "        # Check that X and y have correct shape\n",
    "        X, y = check_X_y(X, y)\n",
    "        # Store the classes seen during fit\n",
    "        self.classes_ = unique_labels(y)\n",
    "\n",
    "        self.X_ = X\n",
    "        self.y_ = y\n",
    "        for _ in range(self.epoches):\n",
    "            self.Net.train_epoch(X, y, self.batch_size, self.SGD_step)\n",
    "        # Return the classifier\n",
    "        return self\n",
    "\n",
    "    def predict(self, X):\n",
    "        y = self.Net.predict(X)\n",
    "        return y.reshape((y.shape[0],))\n",
    "    \n",
    "    def getW(self):\n",
    "        return self.Net.W"
   ]
  },
  {
   "cell_type": "markdown",
   "id": "76242495-4d19-4ac1-807f-590b9e1e6a85",
   "metadata": {},
   "source": [
    "Наивный байесовский классификатор из прошлой работы"
   ]
  },
  {
   "cell_type": "code",
   "execution_count": 36,
   "id": "34563cb7-40e3-4ffd-b7c5-dab2c3fabc4d",
   "metadata": {},
   "outputs": [],
   "source": [
    "from math import pi\n",
    "\n",
    "class NaiveBayes_p(ClassifierMixin, BaseEstimator):\n",
    "    def __init__(self):\n",
    "        None\n",
    "\n",
    "    def fit(self, X, y):\n",
    "        # Check that X and y have correct shape\n",
    "        X, y = check_X_y(X, y)\n",
    "        \n",
    "        self.X_ = X\n",
    "        self.y_ = y\n",
    "        \n",
    "        labels, cnts = np.unique(self.y_, return_counts = True)\n",
    "        self.labels = labels\n",
    "        self.p_of_y = np.array([elem / self.y_.shape[0] for elem in cnts])\n",
    "        self.means = np.array([self.X_[self.y_ == elem].mean(axis = 0) for elem in labels])\n",
    "        self.stds = np.array([self.X_[self.y_ == elem].std(axis = 0) for elem in labels])\n",
    "        # Return the classifier\n",
    "        return self\n",
    "\n",
    "    def gaussian(self, mu, sigma, x0):\n",
    "        return np.exp(-(x0 - mu) ** 2 / (2 * sigma)) / np.sqrt(2.0 * pi * sigma)\n",
    "    \n",
    "    def predict(self, X):\n",
    "        # Check is fit had been called\n",
    "        check_is_fitted(self, ['X_', 'y_'])\n",
    "\n",
    "        # Input validation\n",
    "        X = check_array(X)\n",
    "        \n",
    "        res = np.zeros(X.shape[0])\n",
    "        for (i, elem) in enumerate(X):\n",
    "            p = np.array(self.p_of_y)\n",
    "            for (j, label) in enumerate(self.labels):\n",
    "                p_x_cond_y = np.array([self.gaussian(self.means[j][k], self.stds[j][k], elem[k]) for k in range(X.shape[1])])\n",
    "                p[j] *= np.prod(p_x_cond_y)\n",
    "            res[i] = p[1] / np.sum(p)\n",
    "        return res"
   ]
  },
  {
   "cell_type": "markdown",
   "id": "c608b728-368d-41b9-9da8-9594947f5fae",
   "metadata": {},
   "source": [
    "Дерево принятия решений"
   ]
  },
  {
   "cell_type": "code",
   "execution_count": 37,
   "id": "710c8752-6072-45de-9153-600f96a161da",
   "metadata": {},
   "outputs": [],
   "source": [
    "class MyDecisionTreeClassifier_p(ClassifierMixin, BaseEstimator):\n",
    "    def __init__(self, max_depth = 10, min_count = 50, rnd_split = False):\n",
    "        self.max_depth = max_depth\n",
    "        self.min_count = min_count\n",
    "        self.rnd_split = rnd_split\n",
    "        self.tree = DecisionTree(max_depth, min_count, rnd_split)\n",
    "\n",
    "    def fit(self, X, y):\n",
    "        # Check that X and y have correct shape\n",
    "        X, y = check_X_y(X, y)\n",
    "        # Store the classes seen during fit\n",
    "        self.classes_ = unique_labels(y)\n",
    "\n",
    "        self.X_ = X\n",
    "        self.y_ = y\n",
    "        self.tree.build(X, y)\n",
    "        # Return the classifier\n",
    "        return self\n",
    "\n",
    "    def predict(self, X):\n",
    "        # Check is fit had been called\n",
    "        check_is_fitted(self, ['X_', 'y_'])\n",
    "\n",
    "        # Input validation\n",
    "        X = check_array(X)\n",
    "        \n",
    "        p = []\n",
    "        for elem in X:\n",
    "            p.append(self.tree.decide(elem))\n",
    "        return np.array(p)"
   ]
  },
  {
   "cell_type": "markdown",
   "id": "b28262c1-be7e-4658-bd63-d1a8a5bc9849",
   "metadata": {},
   "source": [
    "Список моделей, выдающих вероятность класса"
   ]
  },
  {
   "cell_type": "code",
   "execution_count": 38,
   "id": "7ce5460c-4936-4295-91d0-52ff483e7e6c",
   "metadata": {},
   "outputs": [],
   "source": [
    "models = []\n",
    "models.append(kNN_p(3))\n",
    "models.append(LogisticRegression_p(SGD_step = 0.05, batch_size = 5, epoches = 2))\n",
    "models.append(SVM_p(SGD_step =  0.01, alpha = 1.0, batch_size = 5, epoches = 4))\n",
    "models.append(NaiveBayes_p())\n",
    "models.append(MyDecisionTreeClassifier_p(max_depth = 2, min_count = 5))"
   ]
  },
  {
   "cell_type": "markdown",
   "id": "bb66f01b-2143-4cfe-b93d-26be1bbbf921",
   "metadata": {},
   "source": [
    "## Мягкое голосование"
   ]
  },
  {
   "cell_type": "code",
   "execution_count": 39,
   "id": "f5dd6fe2-2a43-4d4b-8a5e-f51eed1ea0da",
   "metadata": {},
   "outputs": [],
   "source": [
    "class SVEnsemble(ClassifierMixin, BaseEstimator):\n",
    "    def __init__(self, models):\n",
    "        self.models = models\n",
    "\n",
    "    def fit(self, X, y):\n",
    "        # Check that X and y have correct shape\n",
    "        X, y = check_X_y(X, y)\n",
    "        # Store the classes seen during fit\n",
    "        self.classes_ = unique_labels(y)\n",
    "\n",
    "        self.X_ = X\n",
    "        self.y_ = y\n",
    "        for model in self.models:\n",
    "            model.fit(X, y)\n",
    "        # Return the classifier\n",
    "        return self\n",
    "\n",
    "    def predict(self, X):\n",
    "        # Check is fit had been called\n",
    "        check_is_fitted(self, ['X_', 'y_'])\n",
    "\n",
    "        # Input validation\n",
    "        X = check_array(X)\n",
    "\n",
    "        y, p = np.ndarray((X.shape[0],)), []\n",
    "        for model in models:\n",
    "            p.append(model.predict(X))\n",
    "        p = np.array(p).T\n",
    "        for i in range(len(X)):\n",
    "            p_of_labels = np.array([0 for _ in range(2)])\n",
    "            for j in range(len(models)):\n",
    "                p1 = p[i][j]\n",
    "                p0 = 1 - p1\n",
    "                p_of_labels[0] += p0\n",
    "                p_of_labels[1] += p1\n",
    "            y[i] = p_of_labels.argmax()\n",
    "        return y"
   ]
  },
  {
   "cell_type": "code",
   "execution_count": 40,
   "id": "ee0082a2-449d-4662-9f14-2397fb4f3c97",
   "metadata": {},
   "outputs": [
    {
     "name": "stdout",
     "output_type": "stream",
     "text": [
      "Accuracy: 0.985\n",
      "Recall: 0.9726027397260274\n",
      "Precision: 0.9861111111111112\n"
     ]
    },
    {
     "data": {
      "image/png": "[encoded data removed]",
      "text/plain": [
       "<Figure size 1440x360 with 3 Axes>"
      ]
     },
     "metadata": {
      "needs_background": "light"
     },
     "output_type": "display_data"
    }
   ],
   "source": [
    "SVE = Pipeline([(\"SV\", SVEnsemble(models))])\n",
    "SVE.fit(train_X, train_y)\n",
    "scores(SVE, test_X, test_y)"
   ]
  },
  {
   "cell_type": "code",
   "execution_count": 41,
   "id": "b81f0616-8178-4b34-8413-6e95c436667c",
   "metadata": {},
   "outputs": [],
   "source": [
    "f = open(\"SVE.pkl\", \"wb\")\n",
    "pickle.dump(SVE, f, pickle.HIGHEST_PROTOCOL)\n",
    "f.close()"
   ]
  },
  {
   "cell_type": "markdown",
   "id": "7f601a18-8ae6-4f4c-8081-9d8fdf472256",
   "metadata": {},
   "source": [
    "## Жёсткое голосование"
   ]
  },
  {
   "cell_type": "code",
   "execution_count": 42,
   "id": "f4af8ccb-f730-432d-9d73-c1ccc4840e79",
   "metadata": {},
   "outputs": [],
   "source": [
    "class HVEnsemble(ClassifierMixin, BaseEstimator):\n",
    "    def __init__(self, models):\n",
    "        self.models = models\n",
    "\n",
    "    def fit(self, X, y):\n",
    "        # Check that X and y have correct shape\n",
    "        X, y = check_X_y(X, y)\n",
    "        # Store the classes seen during fit\n",
    "        self.classes_ = unique_labels(y)\n",
    "\n",
    "        self.X_ = X\n",
    "        self.y_ = y\n",
    "        for model in self.models:\n",
    "            model.fit(X, y)\n",
    "        # Return the classifier\n",
    "        return self\n",
    "\n",
    "    def predict(self, X):\n",
    "        # Check is fit had been called\n",
    "        check_is_fitted(self, ['X_', 'y_'])\n",
    "\n",
    "        # Input validation\n",
    "        X = check_array(X)\n",
    "\n",
    "        y, p = np.ndarray((X.shape[0],)), []\n",
    "        for model in models:\n",
    "            p.append(model.predict(X))\n",
    "        p = np.array(p).T\n",
    "        for i in range(len(X)):\n",
    "            cnt = np.array([0 for _ in range(2)])\n",
    "            for j in range(len(models)):\n",
    "                label = (1 if p[i][j] > 0.5 else 0)\n",
    "                cnt[label] += 1\n",
    "            y[i] = cnt.argmax()\n",
    "        return y"
   ]
  },
  {
   "cell_type": "code",
   "execution_count": 43,
   "id": "070b355a-4c7d-420d-ba5e-7f0c93a1bf7f",
   "metadata": {},
   "outputs": [
    {
     "name": "stdout",
     "output_type": "stream",
     "text": [
      "Accuracy: 0.99\n",
      "Recall: 0.9863013698630136\n",
      "Precision: 0.9863013698630136\n"
     ]
    },
    {
     "data": {
      "image/png": "[encoded data removed]",
      "text/plain": [
       "<Figure size 1440x360 with 3 Axes>"
      ]
     },
     "metadata": {
      "needs_background": "light"
     },
     "output_type": "display_data"
    }
   ],
   "source": [
    "HVE = Pipeline([(\"HV\", HVEnsemble(models))])\n",
    "HVE.fit(train_X, train_y)\n",
    "scores(HVE, test_X, test_y)"
   ]
  },
  {
   "cell_type": "code",
   "execution_count": 44,
   "id": "bba601b1-1564-4b79-8016-28bed18291f0",
   "metadata": {},
   "outputs": [],
   "source": [
    "f = open(\"HVE.pkl\", \"wb\")\n",
    "pickle.dump(HVE, f, pickle.HIGHEST_PROTOCOL)\n",
    "f.close()"
   ]
  },
  {
   "cell_type": "code",
   "execution_count": null,
   "id": "c9e25168-14bc-46d3-85c6-272cd1ad124f",
   "metadata": {},
   "outputs": [],
   "source": []
  }
 ],
 "metadata": {
  "kernelspec": {
   "display_name": "Python 3 (ipykernel)",
   "language": "python",
   "name": "python3"
  },
  "language_info": {
   "codemirror_mode": {
    "name": "ipython",
    "version": 3
   },
   "file_extension": ".py",
   "mimetype": "text/x-python",
   "name": "python",
   "nbconvert_exporter": "python",
   "pygments_lexer": "ipython3",
   "version": "3.9.7"
  }
 },
 "nbformat": 4,
 "nbformat_minor": 5
}
